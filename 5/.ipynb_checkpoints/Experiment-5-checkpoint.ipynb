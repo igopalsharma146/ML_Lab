{
 "cells": [
  {
   "cell_type": "code",
   "execution_count": 2,
   "id": "794f8106-659b-4563-a0c4-74f1fc7a390b",
   "metadata": {},
   "outputs": [
    {
     "name": "stdout",
     "output_type": "stream",
     "text": [
      "Total number of Training Data: (614, 1)\n",
      "Total number of Test Data: (154, 1)\n",
      "\n",
      "Confusion matrix:\n",
      "[[77 20]\n",
      " [21 36]]\n",
      "\n",
      "Accuracy of the classifier: 0.7337662337662337\n",
      "\n",
      "Precision: 0.6428571428571429\n",
      "\n",
      "Recall: 0.631578947368421\n",
      "\n",
      "Predicted Value for individual Test Data: [1]\n"
     ]
    },
    {
     "name": "stderr",
     "output_type": "stream",
     "text": [
      "C:\\Users\\Gopal Sharma\\AppData\\Local\\Programs\\Python\\Python312\\Lib\\site-packages\\sklearn\\utils\\validation.py:1310: DataConversionWarning: A column-vector y was passed when a 1d array was expected. Please change the shape of y to (n_samples, ), for example using ravel().\n",
      "  y = column_or_1d(y, warn=True)\n"
     ]
    }
   ],
   "source": [
    "import pandas as pd\n",
    "from sklearn.model_selection import train_test_split\n",
    "from sklearn.naive_bayes import GaussianNB\n",
    "from sklearn import metrics\n",
    "\n",
    "# Load data\n",
    "df = pd.read_csv(\"pima_indian.csv\")\n",
    "\n",
    "# Define feature columns and predicted class names\n",
    "feature_col_names = ['num_preg', 'glucose_conc', 'diastolic_bp', 'thickness', 'insulin', 'bmi', 'diab_pred', 'age']\n",
    "predicted_class_names = ['diabetes']\n",
    "\n",
    "# Prepare features and target variable\n",
    "X = df[feature_col_names].values\n",
    "y = df[predicted_class_names].values\n",
    "\n",
    "# Split data into train and test sets\n",
    "X_train, X_test, y_train, y_test = train_test_split(X, y, test_size=0.20)\n",
    "\n",
    "print('Total number of Training Data:', y_train.shape)\n",
    "print('Total number of Test Data:', y_test.shape)\n",
    "\n",
    "# Train Naive Bayes (NB) classifier\n",
    "clf = GaussianNB()\n",
    "clf.fit(X_train, y_train)\n",
    "\n",
    "# Predictions\n",
    "predicted = clf.predict(X_test)\n",
    "predict_test_data = clf.predict([[6, 148, 72, 35, 0, 33.6, 0.627, 50]])\n",
    "\n",
    "# Model Evaluation\n",
    "print('\\nConfusion matrix:')\n",
    "print(metrics.confusion_matrix(y_test, predicted))\n",
    "\n",
    "print('\\nAccuracy of the classifier:', metrics.accuracy_score(y_test, predicted))\n",
    "\n",
    "print('\\nPrecision:', metrics.precision_score(y_test, predicted))\n",
    "\n",
    "print('\\nRecall:', metrics.recall_score(y_test, predicted))\n",
    "\n",
    "print(\"\\nPredicted Value for individual Test Data:\", predict_test_data)\n",
    "\n"
   ]
  },
  {
   "cell_type": "code",
   "execution_count": null,
   "id": "0def9baf-1a94-461b-824c-6647ce6251dd",
   "metadata": {},
   "outputs": [],
   "source": []
  }
 ],
 "metadata": {
  "kernelspec": {
   "display_name": "Python 3 (ipykernel)",
   "language": "python",
   "name": "python3"
  },
  "language_info": {
   "codemirror_mode": {
    "name": "ipython",
    "version": 3
   },
   "file_extension": ".py",
   "mimetype": "text/x-python",
   "name": "python",
   "nbconvert_exporter": "python",
   "pygments_lexer": "ipython3",
   "version": "3.12.2"
  },
  "widgets": {
   "application/vnd.jupyter.widget-state+json": {
    "state": {},
    "version_major": 2,
    "version_minor": 0
   }
  }
 },
 "nbformat": 4,
 "nbformat_minor": 5
}
