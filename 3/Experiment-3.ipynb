{
 "cells": [
  {
   "cell_type": "code",
   "execution_count": 4,
   "id": "be0fbe7c-5456-4d49-abe2-ef703b3eebbe",
   "metadata": {},
   "outputs": [
    {
     "name": "stdout",
     "output_type": "stream",
     "text": [
      "Evaluation result: \n",
      "Total accuracy:  1.0\n",
      "Accuracy  no :  1.0\n",
      "Accuracy  yes :  1.0\n"
     ]
    },
    {
     "data": {
      "text/plain": [
       "'decision_tree.png'"
      ]
     },
     "execution_count": 4,
     "metadata": {},
     "output_type": "execute_result"
    }
   ],
   "source": [
    "\n",
    "import pandas as pd\n",
    "import graphviz\n",
    "from C45 import C45Classifier\n",
    "\n",
    "data = pd.read_csv('id3.csv')\n",
    "X = data.drop(['PlayTennis'], axis=1)\n",
    "y = data['PlayTennis']\n",
    "\n",
    "model = C45Classifier()\n",
    "model.fit(X, y)\n",
    "\n",
    "data_test = pd.read_csv('data_test.csv')\n",
    "model.predict(data_test)\n",
    "\n",
    "\n",
    "data_test = pd.read_csv('data_test_c.csv')\n",
    "X_test = data_test.drop(['target'], axis=1)\n",
    "y_test = data_test['target']\n",
    "model.evaluate(X_test, y_test)\n",
    "\n",
    "model.generate_tree_diagram(graphviz,\"decision_tree\")\n",
    "\n"
   ]
  },
  {
   "cell_type": "code",
   "execution_count": 5,
   "id": "28ebb17e-8f55-4e13-bb14-64d136a6b630",
   "metadata": {},
   "outputs": [
    {
     "name": "stdout",
     "output_type": "stream",
     "text": [
      "Evaluation result: \n",
      "Total accuracy:  1.0\n",
      "Accuracy  no :  1.0\n",
      "Accuracy  yes :  1.0\n"
     ]
    },
    {
     "data": {
      "text/plain": [
       "'decision_tree1.png'"
      ]
     },
     "execution_count": 5,
     "metadata": {},
     "output_type": "execute_result"
    }
   ],
   "source": [
    "import pandas as pd\n",
    "import graphviz\n",
    "from C45 import C45Classifier\n",
    "\n",
    "data = pd.read_csv('id3.csv')\n",
    "X = data.drop(['PlayTennis'], axis=1)\n",
    "y = data['PlayTennis']\n",
    "\n",
    "model = C45Classifier()\n",
    "model.fit(X, y)\n",
    "\n",
    "data_test = pd.read_csv('data_test.csv')\n",
    "model.predict(data_test)\n",
    "\n",
    "\n",
    "data_test = pd.read_csv('data_test_c.csv')\n",
    "X_test = data_test.drop(['target'], axis=1)\n",
    "y_test = data_test['target']\n",
    "model.evaluate(X_test, y_test)\n",
    "\n",
    "model.generate_tree_diagram(graphviz,\"decision_tree1\")\n",
    "\n"
   ]
  },
  {
   "cell_type": "code",
   "execution_count": 6,
   "id": "d8b9ac53-9d42-45e8-9ea9-f0d7ded49898",
   "metadata": {},
   "outputs": [
    {
     "data": {
      "text/plain": [
       "'Source.gv.pdf'"
      ]
     },
     "execution_count": 6,
     "metadata": {},
     "output_type": "execute_result"
    }
   ],
   "source": [
    "import pandas as pd\n",
    "from sklearn.tree import DecisionTreeClassifier\n",
    "from sklearn.model_selection import train_test_split\n",
    "from sklearn.preprocessing import LabelEncoder\n",
    "from sklearn.tree import export_graphviz\n",
    "import graphviz\n",
    "\n",
    "# Load the dataset\n",
    "\n",
    "data = pd.read_csv('id3.csv')\n",
    "df = pd.DataFrame(data)\n",
    "\n",
    "# Convert categorical variables to numeric using LabelEncoder\n",
    "label_encoder = LabelEncoder()\n",
    "for column in df.columns:\n",
    "    if df[column].dtype == 'object':\n",
    "        df[column] = label_encoder.fit_transform(df[column])\n",
    "\n",
    "# Separate features and target variable\n",
    "X = df.drop('PlayTennis', axis=1)\n",
    "y = df['PlayTennis']\n",
    "\n",
    "# Initialize the decision tree classifier\n",
    "clf = DecisionTreeClassifier(criterion='entropy')\n",
    "\n",
    "# Train the classifier\n",
    "clf.fit(X, y)\n",
    "\n",
    "# Visualize the decision tree\n",
    "dot_data = export_graphviz(clf, out_file=None, feature_names=X.columns, class_names=label_encoder.classes_,\n",
    "                           filled=True, rounded=True, special_characters=True, node_ids=True)\n",
    "graph = graphviz.Source(dot_data)\n",
    "graph.view()\n",
    "\n"
   ]
  },
  {
   "cell_type": "code",
   "execution_count": null,
   "id": "f60906b5-f8cc-4e07-bcc8-00e0276b29c6",
   "metadata": {},
   "outputs": [],
   "source": []
  }
 ],
 "metadata": {
  "kernelspec": {
   "display_name": "Python 3 (ipykernel)",
   "language": "python",
   "name": "python3"
  },
  "language_info": {
   "codemirror_mode": {
    "name": "ipython",
    "version": 3
   },
   "file_extension": ".py",
   "mimetype": "text/x-python",
   "name": "python",
   "nbconvert_exporter": "python",
   "pygments_lexer": "ipython3",
   "version": "3.12.2"
  },
  "widgets": {
   "application/vnd.jupyter.widget-state+json": {
    "state": {},
    "version_major": 2,
    "version_minor": 0
   }
  }
 },
 "nbformat": 4,
 "nbformat_minor": 5
}
