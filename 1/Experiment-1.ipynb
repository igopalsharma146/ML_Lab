{
 "cells": [
  {
   "cell_type": "code",
   "execution_count": 1,
   "id": "bbf97c9f-23ca-482f-9a5f-77b19dfd23b1",
   "metadata": {},
   "outputs": [
    {
     "name": "stdout",
     "output_type": "stream",
     "text": [
      "The total number of training instances are: 4 \n",
      " [['sunny', 'warm', 'normal', 'strong', 'warm', 'same', 'yes'], ['sunny', 'warm', 'high', 'strong', 'warm', 'same', 'yes'], ['rainy', 'cold', 'high', 'strong', 'warm', 'change', 'no'], ['sunny', 'warm', 'high', 'strong', 'cool', 'change', 'yes']]\n",
      "\n",
      "The hypothesis for the training instance 0 is : \n",
      " ['0', '0', '0', '0', '0', '0']\n",
      "\n",
      "The hypothesis for the training instance 1 is : \n",
      " ['sunny', 'warm', 'normal', 'strong', 'warm', 'same']\n",
      "\n",
      "The hypothesis for the training instance 2 is : \n",
      " ['sunny', 'warm', '?', 'strong', 'warm', 'same']\n",
      "\n",
      "The hypothesis for the training instance 3 is : \n",
      " ['sunny', 'warm', '?', 'strong', 'warm', 'same']\n",
      "\n",
      "The hypothesis for the training instance 4 is : \n",
      " ['sunny', 'warm', '?', 'strong', '?', '?']\n",
      "\n",
      "The Maximally specific hypothesis for the training instances is  ['sunny', 'warm', '?', 'strong', '?', '?']\n"
     ]
    }
   ],
   "source": [
    "import csv\n",
    "with open('enjoysport.csv', 'r') as file:\n",
    "    data = [row for row in csv.reader(file)] #list comprehension\n",
    "    print(\"The total number of training instances are:\",len(data)-1,'\\n',data[1:])\n",
    "\n",
    "num_attribute = len(data[0])-1\n",
    "\n",
    "# Initial hypothesis\n",
    "hypothesis = ['0']*num_attribute\n",
    "\n",
    "for i in range(0, len(data)):\n",
    "    if data[i][num_attribute] == 'yes':\n",
    "        for j in range(0, num_attribute):\n",
    "            if hypothesis[j] == '0' or hypothesis[j] == data[i][j]:\n",
    "                hypothesis[j] = data[i][j]\n",
    "            else:\n",
    "                hypothesis[j] = '?'\n",
    "    print(\"\\nThe hypothesis for the training instance {} is : \\n\".format(i),hypothesis)\n",
    "\n",
    "print(\"\\nThe Maximally specific hypothesis for the training instances is \", hypothesis)\n"
   ]
  },
  {
   "cell_type": "code",
   "execution_count": null,
   "id": "260b8ffd-7f1f-4a5d-8e8e-ee21960d4d27",
   "metadata": {},
   "outputs": [],
   "source": []
  }
 ],
 "metadata": {
  "kernelspec": {
   "display_name": "Python 3 (ipykernel)",
   "language": "python",
   "name": "python3"
  },
  "language_info": {
   "codemirror_mode": {
    "name": "ipython",
    "version": 3
   },
   "file_extension": ".py",
   "mimetype": "text/x-python",
   "name": "python",
   "nbconvert_exporter": "python",
   "pygments_lexer": "ipython3",
   "version": "3.12.2"
  },
  "widgets": {
   "application/vnd.jupyter.widget-state+json": {
    "state": {},
    "version_major": 2,
    "version_minor": 0
   }
  }
 },
 "nbformat": 4,
 "nbformat_minor": 5
}
